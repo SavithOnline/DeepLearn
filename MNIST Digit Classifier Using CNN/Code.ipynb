{
 "cells": [
  {
   "cell_type": "code",
   "execution_count": null,
   "metadata": {},
   "outputs": [
    {
     "name": "stdout",
     "output_type": "stream",
     "text": [
      "Epoch 1/5 completed.\n",
      "Epoch 2/5 completed.\n",
      "Epoch 3/5 completed.\n",
      "Epoch 4/5 completed.\n",
      "Epoch 5/5 completed.\n",
      "Test Accuracy: 0.9153\n"
     ]
    }
   ],
   "source": [
    "import numpy as np\n",
    "from scipy.signal import correlate\n",
    "from tensorflow.keras.datasets import mnist\n",
    "from tensorflow.keras.utils import to_categorical\n",
    "\n",
    "# Load MNIST dataset\n",
    "(x_train, y_train), (x_test, y_test) = mnist.load_data()\n",
    "x_train, x_test = x_train / 255.0, x_test / 255.0  # Normalize\n",
    "x_train = x_train.reshape(-1, 28, 28, 1)  # Add channel dimension\n",
    "x_test = x_test.reshape(-1, 28, 28, 1)\n",
    "y_train, y_test = to_categorical(y_train, 10), to_categorical(y_test, 10)\n",
    "\n",
    "# Define CNN class\n",
    "class CNN_Numpy:\n",
    "    def __init__(self):\n",
    "        self.conv_filters = np.random.randn(3, 3, 1, 8) * 0.1  # 8 filters (3x3x1)\n",
    "        self.fc_weights = np.random.randn(1352, 10) * 0.1  # Fully connected layer\n",
    "        self.fc_bias = np.zeros(10)\n",
    "\n",
    "    def relu(self, x):\n",
    "        return np.maximum(0, x)\n",
    "    \n",
    "    def relu_deriv(self, x):\n",
    "        return (x > 0).astype(float)\n",
    "    \n",
    "    def softmax(self, x):\n",
    "        exp_x = np.exp(x - np.max(x, axis=1, keepdims=True))\n",
    "        return exp_x / np.sum(exp_x, axis=1, keepdims=True)\n",
    "    \n",
    "    def convolve(self, x):\n",
    "        return np.array([correlate(x[i, :, :, 0], self.conv_filters[:, :, 0, f], mode='valid')\n",
    "                         for i in range(x.shape[0]) for f in range(8)]).reshape(x.shape[0], 26, 26, 8)\n",
    "    \n",
    "    def maxpool(self, x):\n",
    "        return x[:, ::2, ::2, :].reshape(x.shape[0], 13, 13, 8)\n",
    "    \n",
    "    def forward(self, x):\n",
    "        self.x = x\n",
    "        self.conv_out = self.relu(self.convolve(x))\n",
    "        self.pooled_out = self.maxpool(self.conv_out)\n",
    "        self.flattened = self.pooled_out.reshape(x.shape[0], -1)\n",
    "        self.fc_out = np.dot(self.flattened, self.fc_weights) + self.fc_bias\n",
    "        return self.softmax(self.fc_out)\n",
    "    \n",
    "    def backward(self, x, y, lr=0.01):\n",
    "        output = self.forward(x)\n",
    "        loss_grad = output - y\n",
    "        \n",
    "        # Fully Connected Layer Backprop\n",
    "        fc_weight_grad = np.dot(self.flattened.T, loss_grad)\n",
    "        fc_bias_grad = np.sum(loss_grad, axis=0)\n",
    "        \n",
    "        # Update weights\n",
    "        self.fc_weights -= lr * fc_weight_grad\n",
    "        self.fc_bias -= lr * fc_bias_grad\n",
    "    \n",
    "    def train(self, x_train, y_train, epochs=5, batch_size=64, lr=0.01):\n",
    "        for epoch in range(epochs):\n",
    "            for i in range(0, x_train.shape[0], batch_size):\n",
    "                x_batch, y_batch = x_train[i:i+batch_size], y_train[i:i+batch_size]\n",
    "                self.backward(x_batch, y_batch, lr)\n",
    "            print(f\"Epoch {epoch+1}/{epochs} completed.\")\n",
    "    \n",
    "    def evaluate(self, x_test, y_test):\n",
    "        predictions = np.argmax(self.forward(x_test), axis=1)\n",
    "        labels = np.argmax(y_test, axis=1)\n",
    "        accuracy = np.mean(predictions == labels)\n",
    "        print(f\"Test Accuracy: {accuracy:.4f}\")\n",
    "\n",
    "# Train and evaluate the CNN\n",
    "cnn = CNN_Numpy()\n",
    "cnn.train(x_train, y_train, epochs=5)\n",
    "cnn.evaluate(x_test, y_test)\n"
   ]
  }
 ],
 "metadata": {
  "kernelspec": {
   "display_name": "Python 3",
   "language": "python",
   "name": "python3"
  },
  "language_info": {
   "codemirror_mode": {
    "name": "ipython",
    "version": 3
   },
   "file_extension": ".py",
   "mimetype": "text/x-python",
   "name": "python",
   "nbconvert_exporter": "python",
   "pygments_lexer": "ipython3",
   "version": "3.12.8"
  }
 },
 "nbformat": 4,
 "nbformat_minor": 2
}
